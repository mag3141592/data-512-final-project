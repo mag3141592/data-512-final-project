{
 "cells": [
  {
   "cell_type": "markdown",
   "metadata": {},
   "source": [
    "# An Analysis of Voting Polarization and Power\n",
    "\n",
    "> “It’s not simply a handful of swing states that will decide the 2016 presidential election. The swing voters in the swing counties of the swing states will decide it. And if my calculations are correct, it is perhaps no more than 19 counties in 11 states…” - [David Schultz](https://www.minnpost.com/community-voices/2016/08/how-just-few-voters-few-us-counties-will-decide-presidential-election/)<sup>[1]</sup>\n",
    "\n",
    "### Introduction\n",
    "Every presidential election cycle we see statistics regarding turnout, regional political leaning, and the inequity of voting power.  Articles do discuss the changing voting patterns, although it's usually using maps and lists which can be hard for pattern comprehension.  The goal of this analysis is to help quantify voting polarization and power in a more easily interpretable form.  Below, are the three main research questions used to guide the analysis.\n",
    "\n",
    "* _Research Question 1: Can we see voter polarization?_<br/>\n",
    "That is, are red areas getting redder and are blue areas getting bluer. <br/>\n",
    "\n",
    "\n",
    "* _Research Question 2: Is the proportion of people voting for third parties increasing?_<br/>\n",
    "Are are larger proportion of voters trying to move away from the two-party political system? <br/>\n",
    "\n",
    "\n",
    "* _Research Question 3: What is the weight of a vote?_<br/>\n",
    "This is a way of looking to see if there is bias in the electoral college. That is, do red states typically have more power than blue states or vice versa. We already know there is any inequity of voting power from previous research and impact swing states have, so here we are really looking for a sysmatic bias in the power distubrution amoungst red and blue states. \n",
    "\n",
    "This sort of analysis is important for public understanding of the elections. Understanding bias, polarization, and inequity in our political system is important as the results of these elections have worldwide human implications.  Additionally, the inequity of voting power and polarization in our two-party political system both play a role in the disempowerment of voters. In 2016, only 55% of voting aged citizens voted in the Presidential elections.<sup>[2]</sup> One way to help empower votes, is to understand how and why voting habits are changing and how that is impacting voter turnout.  The more transparency the public has on political elections the more informed voters we can become."
   ]
  },
  {
   "cell_type": "markdown",
   "metadata": {},
   "source": [
    "### Background and Related Work\n",
    "A 2013 Washington Post article discusses how red and blue mapping of the United States is misleading as most of America is mostly purple.<sup>[3]</sup> FiveThirtyEight responds to this with an article in 2017 claiming purple America is gone and few contested counties remain.<sup>[4]</sup> Only 303 counties were won with a single digit margin as compared to 1,096 in 1992.<sup>[4]</sup> FiveThirtyEight uses several maps to show the change over time. Recent research certainly indicates polarization should be visable at a county level, but for my analysis I avoid mapping as county size is not uniform and can negavatively impact the interpretability of the results. \n",
    "\n",
    "Historically, a majority of Americans have been in favor of a third major party, but the type is not agreed upon as some want a more liberal, more conservative, or more central party. Additionally, our electoral college winner takes all system all but ensures a two-party majority.  Third party candidtates are subjected to numerous systematic disadvantages including \"a lack of federal matching funds, state ballot-access restrictions, and voters’ willingness to vote for the 'lesser of two evils.'\"<sup>[5]</sup> Because of these systemmatic issues, it is unlikely outcomes change for the third party candidates. As a result I hypothesised, that if anything, there would be a small increase in people voting for third parties over time. \n",
    "\n",
    "An Observer article from 2016 looked into the power distribution amongst states.<sup>[6]</sup> Again, this source used maps and lists to convey the disribtuion of voting power.  Maps are helpful when looking for regional bias in the distribution but it makes it hard to see a systematic party power bias. Instead I will use a scatter plot. "
   ]
  },
  {
   "cell_type": "markdown",
   "metadata": {},
   "source": [
    "### Methods and Findings\n",
    "\n",
    "#### Setup\n",
    "First, we will import the packages necessary to run the following code."
   ]
  },
  {
   "cell_type": "code",
   "execution_count": 1,
   "metadata": {},
   "outputs": [],
   "source": [
    "import numpy as np\n",
    "import pandas as pd\n",
    "from pylab import figure\n",
    "import matplotlib.pyplot as plt\n",
    "from scipy.stats import linregress"
   ]
  },
  {
   "cell_type": "markdown",
   "metadata": {},
   "source": [
    "#### County Popular Vote Data Import\n",
    "The code in this section loads the county popular vote data from the 2000-2016 Presidential Elections. This [data](https://dataverse.harvard.edu/dataset.xhtml?persistentId=doi:10.7910/DVN/VOQCHQ) was retrieved from Harvard Dataverse and is licensed under [CC0](https://creativecommons.org/share-your-work/public-domain/cc0/).\n",
    "\n",
    "Here we:\n",
    "* Load the data into a dataframe.\n",
    "* Group all non republican and democratic candidates (third parties) into \"other.\"\n",
    "* Remove extra columns not necessary for the analysis."
   ]
  },
  {
   "cell_type": "code",
   "execution_count": 2,
   "metadata": {},
   "outputs": [
    {
     "data": {
      "text/html": [
       "<div>\n",
       "<style scoped>\n",
       "    .dataframe tbody tr th:only-of-type {\n",
       "        vertical-align: middle;\n",
       "    }\n",
       "\n",
       "    .dataframe tbody tr th {\n",
       "        vertical-align: top;\n",
       "    }\n",
       "\n",
       "    .dataframe thead th {\n",
       "        text-align: right;\n",
       "    }\n",
       "</style>\n",
       "<table border=\"1\" class=\"dataframe\">\n",
       "  <thead>\n",
       "    <tr style=\"text-align: right;\">\n",
       "      <th></th>\n",
       "      <th>year</th>\n",
       "      <th>state</th>\n",
       "      <th>state_po</th>\n",
       "      <th>county</th>\n",
       "      <th>FIPS</th>\n",
       "      <th>party</th>\n",
       "      <th>candidate_votes</th>\n",
       "      <th>total_votes</th>\n",
       "    </tr>\n",
       "  </thead>\n",
       "  <tbody>\n",
       "    <tr>\n",
       "      <th>0</th>\n",
       "      <td>2000</td>\n",
       "      <td>Alabama</td>\n",
       "      <td>AL</td>\n",
       "      <td>Autauga</td>\n",
       "      <td>1001.0</td>\n",
       "      <td>democrat</td>\n",
       "      <td>4942.0</td>\n",
       "      <td>17208.0</td>\n",
       "    </tr>\n",
       "    <tr>\n",
       "      <th>1</th>\n",
       "      <td>2000</td>\n",
       "      <td>Alabama</td>\n",
       "      <td>AL</td>\n",
       "      <td>Autauga</td>\n",
       "      <td>1001.0</td>\n",
       "      <td>republican</td>\n",
       "      <td>11993.0</td>\n",
       "      <td>17208.0</td>\n",
       "    </tr>\n",
       "    <tr>\n",
       "      <th>2</th>\n",
       "      <td>2000</td>\n",
       "      <td>Alabama</td>\n",
       "      <td>AL</td>\n",
       "      <td>Autauga</td>\n",
       "      <td>1001.0</td>\n",
       "      <td>other</td>\n",
       "      <td>160.0</td>\n",
       "      <td>17208.0</td>\n",
       "    </tr>\n",
       "    <tr>\n",
       "      <th>3</th>\n",
       "      <td>2000</td>\n",
       "      <td>Alabama</td>\n",
       "      <td>AL</td>\n",
       "      <td>Autauga</td>\n",
       "      <td>1001.0</td>\n",
       "      <td>other</td>\n",
       "      <td>113.0</td>\n",
       "      <td>17208.0</td>\n",
       "    </tr>\n",
       "    <tr>\n",
       "      <th>4</th>\n",
       "      <td>2000</td>\n",
       "      <td>Alabama</td>\n",
       "      <td>AL</td>\n",
       "      <td>Baldwin</td>\n",
       "      <td>1003.0</td>\n",
       "      <td>democrat</td>\n",
       "      <td>13997.0</td>\n",
       "      <td>56480.0</td>\n",
       "    </tr>\n",
       "  </tbody>\n",
       "</table>\n",
       "</div>"
      ],
      "text/plain": [
       "   year    state state_po   county    FIPS       party  candidate_votes  \\\n",
       "0  2000  Alabama       AL  Autauga  1001.0    democrat           4942.0   \n",
       "1  2000  Alabama       AL  Autauga  1001.0  republican          11993.0   \n",
       "2  2000  Alabama       AL  Autauga  1001.0       other            160.0   \n",
       "3  2000  Alabama       AL  Autauga  1001.0       other            113.0   \n",
       "4  2000  Alabama       AL  Baldwin  1003.0    democrat          13997.0   \n",
       "\n",
       "   total_votes  \n",
       "0      17208.0  \n",
       "1      17208.0  \n",
       "2      17208.0  \n",
       "3      17208.0  \n",
       "4      56480.0  "
      ]
     },
     "execution_count": 2,
     "metadata": {},
     "output_type": "execute_result"
    }
   ],
   "source": [
    "# Load data into dataframe\n",
    "county_vote_dataset = pd.read_csv('data/countypres_2000-2016.csv')\n",
    "\n",
    "# Replace 'nan' and third party values with 'other\"'\n",
    "county_vote_dataset['party'].fillna('other', inplace = True)\n",
    "county_vote_dataset.loc[(county_vote_dataset['party'] != 'republican') & \n",
    "                             (county_vote_dataset['party'] != 'democrat'), 'party'] = 'other'\n",
    "\n",
    "# Fill 'nan' vote counts with 0\n",
    "county_vote_dataset['candidatevotes'].fillna(0, inplace = True)\n",
    "county_vote_dataset['totalvotes'].fillna(0, inplace = True)\n",
    "\n",
    "# Drop unecessary columns\n",
    "county_vote_dataset = county_vote_dataset.drop(columns = ['office', 'candidate', 'version'])\n",
    "\n",
    "# View top few rows\n",
    "county_vote_dataset.columns = ['year', 'state', 'state_po', 'county', 'FIPS', 'party', 'candidate_votes', 'total_votes']\n",
    "county_vote_dataset.head()"
   ]
  },
  {
   "cell_type": "markdown",
   "metadata": {},
   "source": [
    "Here, we check that the bottom rows of the dataset look as expected."
   ]
  },
  {
   "cell_type": "code",
   "execution_count": 3,
   "metadata": {},
   "outputs": [
    {
     "data": {
      "text/html": [
       "<div>\n",
       "<style scoped>\n",
       "    .dataframe tbody tr th:only-of-type {\n",
       "        vertical-align: middle;\n",
       "    }\n",
       "\n",
       "    .dataframe tbody tr th {\n",
       "        vertical-align: top;\n",
       "    }\n",
       "\n",
       "    .dataframe thead th {\n",
       "        text-align: right;\n",
       "    }\n",
       "</style>\n",
       "<table border=\"1\" class=\"dataframe\">\n",
       "  <thead>\n",
       "    <tr style=\"text-align: right;\">\n",
       "      <th></th>\n",
       "      <th>year</th>\n",
       "      <th>state</th>\n",
       "      <th>state_po</th>\n",
       "      <th>county</th>\n",
       "      <th>FIPS</th>\n",
       "      <th>party</th>\n",
       "      <th>candidate_votes</th>\n",
       "      <th>total_votes</th>\n",
       "    </tr>\n",
       "  </thead>\n",
       "  <tbody>\n",
       "    <tr>\n",
       "      <th>50523</th>\n",
       "      <td>2016</td>\n",
       "      <td>Rhode Island</td>\n",
       "      <td>NaN</td>\n",
       "      <td>Federal Precinct</td>\n",
       "      <td>NaN</td>\n",
       "      <td>republican</td>\n",
       "      <td>53.0</td>\n",
       "      <td>0.0</td>\n",
       "    </tr>\n",
       "    <tr>\n",
       "      <th>50524</th>\n",
       "      <td>2016</td>\n",
       "      <td>Connecticut</td>\n",
       "      <td>NaN</td>\n",
       "      <td>Statewide writein</td>\n",
       "      <td>NaN</td>\n",
       "      <td>other</td>\n",
       "      <td>0.0</td>\n",
       "      <td>0.0</td>\n",
       "    </tr>\n",
       "    <tr>\n",
       "      <th>50525</th>\n",
       "      <td>2016</td>\n",
       "      <td>Maine</td>\n",
       "      <td>NaN</td>\n",
       "      <td>Maine UOCAVA</td>\n",
       "      <td>NaN</td>\n",
       "      <td>other</td>\n",
       "      <td>321.0</td>\n",
       "      <td>0.0</td>\n",
       "    </tr>\n",
       "    <tr>\n",
       "      <th>50526</th>\n",
       "      <td>2016</td>\n",
       "      <td>Alaska</td>\n",
       "      <td>NaN</td>\n",
       "      <td>District 99</td>\n",
       "      <td>NaN</td>\n",
       "      <td>other</td>\n",
       "      <td>28.0</td>\n",
       "      <td>0.0</td>\n",
       "    </tr>\n",
       "    <tr>\n",
       "      <th>50527</th>\n",
       "      <td>2016</td>\n",
       "      <td>Rhode Island</td>\n",
       "      <td>NaN</td>\n",
       "      <td>Federal Precinct</td>\n",
       "      <td>NaN</td>\n",
       "      <td>other</td>\n",
       "      <td>38.0</td>\n",
       "      <td>0.0</td>\n",
       "    </tr>\n",
       "  </tbody>\n",
       "</table>\n",
       "</div>"
      ],
      "text/plain": [
       "       year         state state_po             county  FIPS       party  \\\n",
       "50523  2016  Rhode Island      NaN   Federal Precinct   NaN  republican   \n",
       "50524  2016   Connecticut      NaN  Statewide writein   NaN       other   \n",
       "50525  2016         Maine      NaN       Maine UOCAVA   NaN       other   \n",
       "50526  2016        Alaska      NaN        District 99   NaN       other   \n",
       "50527  2016  Rhode Island      NaN   Federal Precinct   NaN       other   \n",
       "\n",
       "       candidate_votes  total_votes  \n",
       "50523             53.0          0.0  \n",
       "50524              0.0          0.0  \n",
       "50525            321.0          0.0  \n",
       "50526             28.0          0.0  \n",
       "50527             38.0          0.0  "
      ]
     },
     "execution_count": 3,
     "metadata": {},
     "output_type": "execute_result"
    }
   ],
   "source": [
    "# View bottom few rows\n",
    "county_vote_dataset.tail(5)"
   ]
  },
  {
   "cell_type": "markdown",
   "metadata": {},
   "source": [
    "When we view the bottom rows of the dataset it becomes clear the dataset includes things beyond county votes like statewide writeins. In the next section, we remove anything without a FIPS code, a unqiue county identifier, to ensure we are just focused on county popular votes."
   ]
  },
  {
   "cell_type": "code",
   "execution_count": 4,
   "metadata": {},
   "outputs": [],
   "source": [
    "# Remove any rows with 'nan' FIPS values\n",
    "county_votes_only = county_vote_dataset[(~np.isnan(county_vote_dataset['FIPS']))]"
   ]
  },
  {
   "cell_type": "markdown",
   "metadata": {},
   "source": [
    "Previously, we grouped all non-republican and non-democratic candidates into \"other\" so below we recalculate the \"candidate_votes\" per party."
   ]
  },
  {
   "cell_type": "code",
   "execution_count": 5,
   "metadata": {},
   "outputs": [],
   "source": [
    "# Sum candidate votes across year, FIPS, and party\n",
    "county_votes_only = county_votes_only.groupby(['year', 'state', 'state_po', 'county',\n",
    "                                               'FIPS', 'party', 'total_votes']).sum()\n",
    "county_votes_only = county_votes_only.reset_index()"
   ]
  },
  {
   "cell_type": "markdown",
   "metadata": {},
   "source": [
    "In the dataset there is a \"total_votes\" column, which is suppose to be the total votes per county. I wanted to validate the number before using it in the rest of the analysis. The below code recalculates the total votes per county."
   ]
  },
  {
   "cell_type": "code",
   "execution_count": 6,
   "metadata": {},
   "outputs": [],
   "source": [
    "# Sum candidate votes over year and FIPS\n",
    "validate_total = county_votes_only[['year', 'FIPS', 'candidate_votes']].groupby(['year', 'FIPS']).sum()\n",
    "validate_total.columns = ['county_total']"
   ]
  },
  {
   "cell_type": "markdown",
   "metadata": {},
   "source": [
    "Now we join our calculated total votes with the initial dataset for comparison. We see that 1047 records have a mismatch in the total votes count, so we drop the datasets total and use our calculation of the total in the remainder of the analysis."
   ]
  },
  {
   "cell_type": "code",
   "execution_count": 7,
   "metadata": {},
   "outputs": [
    {
     "name": "stdout",
     "output_type": "stream",
     "text": [
      "Number of corrected totals: 1047\n"
     ]
    }
   ],
   "source": [
    "# Join our total vote calculation with the imported dataset on year and FIPS\n",
    "county_votes = county_votes_only.join(validate_total, how = 'left', on = ['year', 'FIPS'])\n",
    "\n",
    "# Calculate the number of rows where our calculated total votes per county and year don't match the datasets'\n",
    "corrected = county_votes[(county_votes['total_votes'] != county_votes['county_total'])]\n",
    "print('Number of corrected totals:', len(corrected))\n",
    "\n",
    "# Here we drop their 'total_votes' values and use the one we calculated\n",
    "county_votes = county_votes.drop(columns = ['total_votes'])"
   ]
  },
  {
   "cell_type": "markdown",
   "metadata": {},
   "source": [
    "Next, we calculate the total number of republican (red) and democratic (blue) votes in order to later calculate a county \"reddness\" metric. \"Redness\" is measured as the average proportion of red voters (out of red or blue votes) in a county.\n",
    "Then we join the total number of red and blue votes to our main county dataset."
   ]
  },
  {
   "cell_type": "code",
   "execution_count": 8,
   "metadata": {},
   "outputs": [
    {
     "data": {
      "text/html": [
       "<div>\n",
       "<style scoped>\n",
       "    .dataframe tbody tr th:only-of-type {\n",
       "        vertical-align: middle;\n",
       "    }\n",
       "\n",
       "    .dataframe tbody tr th {\n",
       "        vertical-align: top;\n",
       "    }\n",
       "\n",
       "    .dataframe thead th {\n",
       "        text-align: right;\n",
       "    }\n",
       "</style>\n",
       "<table border=\"1\" class=\"dataframe\">\n",
       "  <thead>\n",
       "    <tr style=\"text-align: right;\">\n",
       "      <th></th>\n",
       "      <th>year</th>\n",
       "      <th>state</th>\n",
       "      <th>state_po</th>\n",
       "      <th>county</th>\n",
       "      <th>FIPS</th>\n",
       "      <th>party</th>\n",
       "      <th>candidate_votes</th>\n",
       "      <th>county_total</th>\n",
       "      <th>redblue_total</th>\n",
       "    </tr>\n",
       "  </thead>\n",
       "  <tbody>\n",
       "    <tr>\n",
       "      <th>0</th>\n",
       "      <td>2000</td>\n",
       "      <td>Alabama</td>\n",
       "      <td>AL</td>\n",
       "      <td>Autauga</td>\n",
       "      <td>1001.0</td>\n",
       "      <td>democrat</td>\n",
       "      <td>4942.0</td>\n",
       "      <td>17208.0</td>\n",
       "      <td>16935.0</td>\n",
       "    </tr>\n",
       "    <tr>\n",
       "      <th>1</th>\n",
       "      <td>2000</td>\n",
       "      <td>Alabama</td>\n",
       "      <td>AL</td>\n",
       "      <td>Autauga</td>\n",
       "      <td>1001.0</td>\n",
       "      <td>other</td>\n",
       "      <td>273.0</td>\n",
       "      <td>17208.0</td>\n",
       "      <td>16935.0</td>\n",
       "    </tr>\n",
       "    <tr>\n",
       "      <th>2</th>\n",
       "      <td>2000</td>\n",
       "      <td>Alabama</td>\n",
       "      <td>AL</td>\n",
       "      <td>Autauga</td>\n",
       "      <td>1001.0</td>\n",
       "      <td>republican</td>\n",
       "      <td>11993.0</td>\n",
       "      <td>17208.0</td>\n",
       "      <td>16935.0</td>\n",
       "    </tr>\n",
       "    <tr>\n",
       "      <th>3</th>\n",
       "      <td>2000</td>\n",
       "      <td>Alabama</td>\n",
       "      <td>AL</td>\n",
       "      <td>Baldwin</td>\n",
       "      <td>1003.0</td>\n",
       "      <td>democrat</td>\n",
       "      <td>13997.0</td>\n",
       "      <td>56480.0</td>\n",
       "      <td>54869.0</td>\n",
       "    </tr>\n",
       "    <tr>\n",
       "      <th>4</th>\n",
       "      <td>2000</td>\n",
       "      <td>Alabama</td>\n",
       "      <td>AL</td>\n",
       "      <td>Baldwin</td>\n",
       "      <td>1003.0</td>\n",
       "      <td>other</td>\n",
       "      <td>1611.0</td>\n",
       "      <td>56480.0</td>\n",
       "      <td>54869.0</td>\n",
       "    </tr>\n",
       "  </tbody>\n",
       "</table>\n",
       "</div>"
      ],
      "text/plain": [
       "   year    state state_po   county    FIPS       party  candidate_votes  \\\n",
       "0  2000  Alabama       AL  Autauga  1001.0    democrat           4942.0   \n",
       "1  2000  Alabama       AL  Autauga  1001.0       other            273.0   \n",
       "2  2000  Alabama       AL  Autauga  1001.0  republican          11993.0   \n",
       "3  2000  Alabama       AL  Baldwin  1003.0    democrat          13997.0   \n",
       "4  2000  Alabama       AL  Baldwin  1003.0       other           1611.0   \n",
       "\n",
       "   county_total  redblue_total  \n",
       "0       17208.0        16935.0  \n",
       "1       17208.0        16935.0  \n",
       "2       17208.0        16935.0  \n",
       "3       56480.0        54869.0  \n",
       "4       56480.0        54869.0  "
      ]
     },
     "execution_count": 8,
     "metadata": {},
     "output_type": "execute_result"
    }
   ],
   "source": [
    "# Sum votes for non-third party candidates\n",
    "county_rb_votes = county_votes[(county_votes['party'] != \n",
    "                                'other')][['year', 'FIPS', 'candidate_votes']].groupby(['year', 'FIPS']).sum()\n",
    "county_rb_votes.columns = ['redblue_total']\n",
    "\n",
    "# Join to red/blue votes to county dataset\n",
    "county_votes = county_votes.join(county_rb_votes, on = ['year', 'FIPS'], how = 'left')\n",
    "\n",
    "county_votes.head(5)"
   ]
  },
  {
   "cell_type": "markdown",
   "metadata": {},
   "source": [
    "Next, we calculate:\n",
    "1. Each party's propotion of the total votes in each county and year. \n",
    "2. Republican and Democratic portions of the \"redblue_total,\" calculated in the last step, in each county and year."
   ]
  },
  {
   "cell_type": "code",
   "execution_count": 9,
   "metadata": {},
   "outputs": [
    {
     "data": {
      "text/html": [
       "<div>\n",
       "<style scoped>\n",
       "    .dataframe tbody tr th:only-of-type {\n",
       "        vertical-align: middle;\n",
       "    }\n",
       "\n",
       "    .dataframe tbody tr th {\n",
       "        vertical-align: top;\n",
       "    }\n",
       "\n",
       "    .dataframe thead th {\n",
       "        text-align: right;\n",
       "    }\n",
       "</style>\n",
       "<table border=\"1\" class=\"dataframe\">\n",
       "  <thead>\n",
       "    <tr style=\"text-align: right;\">\n",
       "      <th></th>\n",
       "      <th>year</th>\n",
       "      <th>state</th>\n",
       "      <th>state_po</th>\n",
       "      <th>county</th>\n",
       "      <th>FIPS</th>\n",
       "      <th>party</th>\n",
       "      <th>candidate_votes</th>\n",
       "      <th>county_total</th>\n",
       "      <th>redblue_total</th>\n",
       "      <th>proportion_of_total</th>\n",
       "      <th>proportion_of_redblue</th>\n",
       "    </tr>\n",
       "  </thead>\n",
       "  <tbody>\n",
       "    <tr>\n",
       "      <th>0</th>\n",
       "      <td>2000</td>\n",
       "      <td>Alabama</td>\n",
       "      <td>AL</td>\n",
       "      <td>Autauga</td>\n",
       "      <td>1001.0</td>\n",
       "      <td>democrat</td>\n",
       "      <td>4942.0</td>\n",
       "      <td>17208.0</td>\n",
       "      <td>16935.0</td>\n",
       "      <td>0.287192</td>\n",
       "      <td>0.291822</td>\n",
       "    </tr>\n",
       "    <tr>\n",
       "      <th>1</th>\n",
       "      <td>2000</td>\n",
       "      <td>Alabama</td>\n",
       "      <td>AL</td>\n",
       "      <td>Autauga</td>\n",
       "      <td>1001.0</td>\n",
       "      <td>other</td>\n",
       "      <td>273.0</td>\n",
       "      <td>17208.0</td>\n",
       "      <td>16935.0</td>\n",
       "      <td>0.015865</td>\n",
       "      <td>0.000000</td>\n",
       "    </tr>\n",
       "    <tr>\n",
       "      <th>2</th>\n",
       "      <td>2000</td>\n",
       "      <td>Alabama</td>\n",
       "      <td>AL</td>\n",
       "      <td>Autauga</td>\n",
       "      <td>1001.0</td>\n",
       "      <td>republican</td>\n",
       "      <td>11993.0</td>\n",
       "      <td>17208.0</td>\n",
       "      <td>16935.0</td>\n",
       "      <td>0.696943</td>\n",
       "      <td>0.708178</td>\n",
       "    </tr>\n",
       "    <tr>\n",
       "      <th>3</th>\n",
       "      <td>2000</td>\n",
       "      <td>Alabama</td>\n",
       "      <td>AL</td>\n",
       "      <td>Baldwin</td>\n",
       "      <td>1003.0</td>\n",
       "      <td>democrat</td>\n",
       "      <td>13997.0</td>\n",
       "      <td>56480.0</td>\n",
       "      <td>54869.0</td>\n",
       "      <td>0.247822</td>\n",
       "      <td>0.255099</td>\n",
       "    </tr>\n",
       "    <tr>\n",
       "      <th>4</th>\n",
       "      <td>2000</td>\n",
       "      <td>Alabama</td>\n",
       "      <td>AL</td>\n",
       "      <td>Baldwin</td>\n",
       "      <td>1003.0</td>\n",
       "      <td>other</td>\n",
       "      <td>1611.0</td>\n",
       "      <td>56480.0</td>\n",
       "      <td>54869.0</td>\n",
       "      <td>0.028523</td>\n",
       "      <td>0.000000</td>\n",
       "    </tr>\n",
       "  </tbody>\n",
       "</table>\n",
       "</div>"
      ],
      "text/plain": [
       "   year    state state_po   county    FIPS       party  candidate_votes  \\\n",
       "0  2000  Alabama       AL  Autauga  1001.0    democrat           4942.0   \n",
       "1  2000  Alabama       AL  Autauga  1001.0       other            273.0   \n",
       "2  2000  Alabama       AL  Autauga  1001.0  republican          11993.0   \n",
       "3  2000  Alabama       AL  Baldwin  1003.0    democrat          13997.0   \n",
       "4  2000  Alabama       AL  Baldwin  1003.0       other           1611.0   \n",
       "\n",
       "   county_total  redblue_total  proportion_of_total  proportion_of_redblue  \n",
       "0       17208.0        16935.0             0.287192               0.291822  \n",
       "1       17208.0        16935.0             0.015865               0.000000  \n",
       "2       17208.0        16935.0             0.696943               0.708178  \n",
       "3       56480.0        54869.0             0.247822               0.255099  \n",
       "4       56480.0        54869.0             0.028523               0.000000  "
      ]
     },
     "execution_count": 9,
     "metadata": {},
     "output_type": "execute_result"
    }
   ],
   "source": [
    "# Party's proportion of total vote calculcation\n",
    "county_votes['proportion_of_total'] = county_votes['candidate_votes'] / county_votes['county_total']\n",
    "\n",
    "# Party's proportion of red/blue vote total calculcation. Set third party to 0.\n",
    "county_votes['proportion_of_redblue'] = county_votes['candidate_votes'] / county_votes['redblue_total']\n",
    "county_votes.loc[(county_votes['party'] == 'other'), 'proportion_of_redblue'] = 0\n",
    "\n",
    "county_votes.head(5)"
   ]
  },
  {
   "cell_type": "markdown",
   "metadata": {},
   "source": [
    "Next, we calculate:\n",
    "1. The average proportion of the total vote for each party and county over the last 5 elections.\n",
    "2. The average proportion of the red/blue vote total for each party and county over the last 5 elections. This equals 0 for the third party."
   ]
  },
  {
   "cell_type": "code",
   "execution_count": 10,
   "metadata": {},
   "outputs": [
    {
     "data": {
      "text/html": [
       "<div>\n",
       "<style scoped>\n",
       "    .dataframe tbody tr th:only-of-type {\n",
       "        vertical-align: middle;\n",
       "    }\n",
       "\n",
       "    .dataframe tbody tr th {\n",
       "        vertical-align: top;\n",
       "    }\n",
       "\n",
       "    .dataframe thead tr th {\n",
       "        text-align: left;\n",
       "    }\n",
       "\n",
       "    .dataframe thead tr:last-of-type th {\n",
       "        text-align: right;\n",
       "    }\n",
       "</style>\n",
       "<table border=\"1\" class=\"dataframe\">\n",
       "  <thead>\n",
       "    <tr>\n",
       "      <th></th>\n",
       "      <th></th>\n",
       "      <th colspan=\"2\" halign=\"left\">proportion_of_total</th>\n",
       "      <th colspan=\"2\" halign=\"left\">proportion_of_redblue</th>\n",
       "    </tr>\n",
       "    <tr>\n",
       "      <th></th>\n",
       "      <th></th>\n",
       "      <th>mean</th>\n",
       "      <th>std</th>\n",
       "      <th>mean</th>\n",
       "      <th>std</th>\n",
       "    </tr>\n",
       "    <tr>\n",
       "      <th>FIPS</th>\n",
       "      <th>party</th>\n",
       "      <th></th>\n",
       "      <th></th>\n",
       "      <th></th>\n",
       "      <th></th>\n",
       "    </tr>\n",
       "  </thead>\n",
       "  <tbody>\n",
       "    <tr>\n",
       "      <th rowspan=\"3\" valign=\"top\">1001.0</th>\n",
       "      <th>democrat</th>\n",
       "      <td>0.257088</td>\n",
       "      <td>0.021011</td>\n",
       "      <td>0.260764</td>\n",
       "      <td>0.020787</td>\n",
       "    </tr>\n",
       "    <tr>\n",
       "      <th>other</th>\n",
       "      <td>0.014180</td>\n",
       "      <td>0.012111</td>\n",
       "      <td>0.000000</td>\n",
       "      <td>0.000000</td>\n",
       "    </tr>\n",
       "    <tr>\n",
       "      <th>republican</th>\n",
       "      <td>0.728733</td>\n",
       "      <td>0.021547</td>\n",
       "      <td>0.739236</td>\n",
       "      <td>0.020787</td>\n",
       "    </tr>\n",
       "    <tr>\n",
       "      <th rowspan=\"2\" valign=\"top\">1003.0</th>\n",
       "      <th>democrat</th>\n",
       "      <td>0.224144</td>\n",
       "      <td>0.020870</td>\n",
       "      <td>0.228642</td>\n",
       "      <td>0.020330</td>\n",
       "    </tr>\n",
       "    <tr>\n",
       "      <th>other</th>\n",
       "      <td>0.019968</td>\n",
       "      <td>0.014049</td>\n",
       "      <td>0.000000</td>\n",
       "      <td>0.000000</td>\n",
       "    </tr>\n",
       "  </tbody>\n",
       "</table>\n",
       "</div>"
      ],
      "text/plain": [
       "                  proportion_of_total           proportion_of_redblue  \\\n",
       "                                 mean       std                  mean   \n",
       "FIPS   party                                                            \n",
       "1001.0 democrat              0.257088  0.021011              0.260764   \n",
       "       other                 0.014180  0.012111              0.000000   \n",
       "       republican            0.728733  0.021547              0.739236   \n",
       "1003.0 democrat              0.224144  0.020870              0.228642   \n",
       "       other                 0.019968  0.014049              0.000000   \n",
       "\n",
       "                             \n",
       "                        std  \n",
       "FIPS   party                 \n",
       "1001.0 democrat    0.020787  \n",
       "       other       0.000000  \n",
       "       republican  0.020787  \n",
       "1003.0 democrat    0.020330  \n",
       "       other       0.000000  "
      ]
     },
     "execution_count": 10,
     "metadata": {},
     "output_type": "execute_result"
    }
   ],
   "source": [
    "county_summary = county_votes[['FIPS', 'party', 'proportion_of_total', 'proportion_of_redblue']]\n",
    "county_summary = county_summary.groupby(['FIPS', 'party']).agg([np.mean, np.std])\n",
    "county_summary.head(5)"
   ]
  },
  {
   "cell_type": "markdown",
   "metadata": {},
   "source": [
    "Here we separate the average proportion of each party's vote in each county, and plot the distribution of each. Each county is represented in each party.  The sum of each county's average proportion of republican, democrat, and third party votes should sum to 1."
   ]
  },
  {
   "cell_type": "code",
   "execution_count": 11,
   "metadata": {},
   "outputs": [
    {
     "name": "stdout",
     "output_type": "stream",
     "text": [
      "Number of counties with > 10% of votes to third party: 5\n",
      "Max third party votes: 11.021818458800011 %\n",
      "Total counties:  3154\n"
     ]
    },
    {
     "data": {
      "image/png": "[encoded data removed]",
      "text/plain": [
       "<Figure size 432x288 with 1 Axes>"
      ]
     },
     "metadata": {},
     "output_type": "display_data"
    }
   ],
   "source": [
    "fig = plt.figure()\n",
    "counties = county_summary.reset_index()\n",
    "\n",
    "# Separate republican, democratic, and third party means.\n",
    "blue_total = counties[(counties['party'] == 'democrat')]['proportion_of_total']['mean']\n",
    "blue_rb = counties[(counties['party'] == 'democrat')]['proportion_of_redblue']['mean']\n",
    "\n",
    "red_total = counties[(counties['party'] == 'republican')]['proportion_of_total']['mean']\n",
    "red_rb = counties[(counties['party'] == 'republican')]['proportion_of_redblue']['mean']\n",
    "\n",
    "other_total = counties[(counties['party'] == 'other')]['proportion_of_total']['mean']\n",
    "other_total.fillna(0, inplace = True)\n",
    "\n",
    "# Plot histogram of distributions\n",
    "plt.hist([blue_total, red_total, other_total], color = ['blue', 'red', 'green'])\n",
    "plt.ylabel(\"Count of Counties\")\n",
    "plt.xlabel(\"Average Proportion of Votes to Party\")\n",
    "plt.legend([\"Republican\", \"Democrat\", \"Third Party\"])\n",
    "\n",
    "# Export image\n",
    "fig.savefig('images/county_avg_party_proportions_distribution.png')\n",
    "\n",
    "print(\"Number of counties with > 10% of votes to third party:\", sum(other_total > .1))\n",
    "print(\"Max third party votes:\", max(other_total)*100, \"%\")\n",
    "print(\"Total counties: \", len(other_total))"
   ]
  },
  {
   "cell_type": "markdown",
   "metadata": {},
   "source": [
    "Above we see that in elections, the average proportion of third party votes in a county does not exceed 11.1%. Because of that they never win a county, so we will throw out these votes and focus on the proportion of red or blue votes out of the total number of red and blue votes in each county. \n",
    "\n",
    "Below, we plot the distribution of the proportion of red and blue voters in each country. Each county is plotted twice, once in the blue histogram and once in the red histogram. We see the red distribution mirrors the blue distribution because if you didn't vote red then you voted blue, since we threw our third party votes. The distribution shows that there are more red counties than blue, this is because there are more low-population, red, rural counties. "
   ]
  },
  {
   "cell_type": "code",
   "execution_count": 12,
   "metadata": {},
   "outputs": [
    {
     "data": {
      "image/png": "[encoded data removed]",
      "text/plain": [
       "<Figure size 432x288 with 1 Axes>"
      ]
     },
     "metadata": {},
     "output_type": "display_data"
    }
   ],
   "source": [
    "fig = plt.figure()\n",
    "\n",
    "# Plot histogram of average proportion of red and blue votes in each county\n",
    "plt.hist([blue_rb, red_rb], color = ['blue', 'red'])\n",
    "\n",
    "# Plot the average of each distribution\n",
    "plt.axvline(red_rb.mean(), color='red', linestyle='dashed', linewidth=1)\n",
    "plt.axvline(blue_rb.mean(), color='blue', linestyle='dashed', linewidth=1)\n",
    "plt.ylabel(\"Count of Counties\")\n",
    "plt.xlabel(\"Average Proportion of Votes to Party\")\n",
    "plt.legend([\"Republican\", \"Democrat\"])\n",
    "\n",
    "# Export image\n",
    "fig.savefig('images/county_avg_red_blue_proportions_distribution.png')"
   ]
  },
  {
   "cell_type": "markdown",
   "metadata": {},
   "source": [
    "Moving forward, we will just use the average proportion of red votes in each county over the last 5 elections. Truly red counties will be counties with a proportion greater than 0.5, and blue counties will be counties with a proportion less than 0.5. This will be referred to as a counties average \"redness.\"\n",
    "\n",
    "##### Research Question 1:\n",
    "Now that we've calculated each counties average redness we want to measure whether red counties are becoming redder and blue counties are becoming bluer. We will do this is two way.\n",
    "\n",
    "###### Method 1:\n",
    "The first method, below, fits a linear regression to all 3154 counties' portion of red voters and election year. The slope of each county is plotted against the counties average 5-election redness. "
   ]
  },
  {
   "cell_type": "code",
   "execution_count": 13,
   "metadata": {},
   "outputs": [
    {
     "name": "stderr",
     "output_type": "stream",
     "text": [
      "C:\\Users\\mstark\\AppData\\Local\\Continuum\\anaconda3\\lib\\site-packages\\scipy\\stats\\_distn_infrastructure.py:879: RuntimeWarning: invalid value encountered in greater\n",
      "  return (self.a < x) & (x < self.b)\n",
      "C:\\Users\\mstark\\AppData\\Local\\Continuum\\anaconda3\\lib\\site-packages\\scipy\\stats\\_distn_infrastructure.py:879: RuntimeWarning: invalid value encountered in less\n",
      "  return (self.a < x) & (x < self.b)\n",
      "C:\\Users\\mstark\\AppData\\Local\\Continuum\\anaconda3\\lib\\site-packages\\scipy\\stats\\_distn_infrastructure.py:1821: RuntimeWarning: invalid value encountered in less_equal\n",
      "  cond2 = cond0 & (x <= self.a)\n"
     ]
    }
   ],
   "source": [
    "unique_counties = np.unique(county_votes['FIPS'])\n",
    "\n",
    "success = []\n",
    "slopes = []\n",
    "\n",
    "# Loop over counties\n",
    "for i in range(0, len(unique_counties)):    \n",
    "    party = 'republican'\n",
    "    proportions = county_votes[(county_votes['FIPS'] == unique_counties[i]) & (county_votes['party'] == party)]\n",
    "    x = list(proportions['year'])\n",
    "    y = list(proportions['proportion_of_redblue'])\n",
    "    \n",
    "    # Perform a linear regression on each county and save the slope and county's 5-election average redness\n",
    "    try:\n",
    "        lr = linregress(x, y)\n",
    "    except ValueError:\n",
    "        pass\n",
    "    else:\n",
    "        success.append(np.average(y))\n",
    "        slopes.append(lr[0])\n",
    "\n",
    "d = {'slopes': slopes, 'redness': success}\n",
    "df = pd.DataFrame(data=d)"
   ]
  },
  {
   "cell_type": "markdown",
   "metadata": {},
   "source": [
    "Here we remove counties where the linear regression returned a 'nan' value for the slope."
   ]
  },
  {
   "cell_type": "code",
   "execution_count": 14,
   "metadata": {},
   "outputs": [
    {
     "name": "stdout",
     "output_type": "stream",
     "text": [
      "Number of counties removed: 3\n"
     ]
    }
   ],
   "source": [
    "df = df[(~np.isnan(df['slopes']))]\n",
    "print(\"Number of counties removed:\", len(unique_counties) - len(df))"
   ]
  },
  {
   "cell_type": "markdown",
   "metadata": {},
   "source": [
    "Next, we plot the slopes against each county's average redness. Then we fit linear regression, to the slopes of each counties' best fit line and their average redness, and look at the pearson correlation coefficient of the fit."
   ]
  },
  {
   "cell_type": "code",
   "execution_count": 15,
   "metadata": {},
   "outputs": [
    {
     "name": "stdout",
     "output_type": "stream",
     "text": [
      "Correlation:  0.40676490249713665\n"
     ]
    },
    {
     "data": {
      "image/png": "[encoded data removed]",
      "text/plain": [
       "<Figure size 432x288 with 1 Axes>"
      ]
     },
     "metadata": {},
     "output_type": "display_data"
    }
   ],
   "source": [
    "fig = plt.figure()\n",
    "\n",
    "# Fit line to data\n",
    "slope, intercept, r_value, p_value, std_err = linregress(df['redness'], df['slopes'])\n",
    "print(\"Correlation: \", np.corrcoef(df['redness'], df['slopes'])[0][1])\n",
    "line = slope * df['redness'] + intercept\n",
    "\n",
    "# Plot redness vs. best fit slopes\n",
    "plt.plot(df['redness'], df['slopes'],'o', df['redness'], line)\n",
    "plt.ylabel(\"Slope of County's Best Fit Line\")\n",
    "plt.xlabel('Average Proportion of Republican Voters')\n",
    "\n",
    "# Export image\n",
    "fig.savefig('images/polarization_method_1.png')"
   ]
  },
  {
   "cell_type": "markdown",
   "metadata": {},
   "source": [
    "Above we see a moderate, positive correlation between county slope and average redness. What this indicates is that red counties (where average redness is > 0.5) are correlated with positive slopes. In other words, red areas are getting redder.  Additionally be see non-red counties (blue counties) are correlated with negative slopes. In other words, non-red areas are getting less red or blue areas are getting bluer.\n",
    "\n",
    "###### Method 2:\n",
    "The second method, below, calculates the average proportion of red votes in red counties and the average proportion of blue votes in blue counties for each election year. Next, we plot a linear regression to each and look at the correlation. Red counties will be considered all counties with a proportion of red voters > 0.5 in any given election year. Blue counties will be considered all counties with a proportion of blue voters > 0.5 in any given election year.  Year to year swing counties will move between being considered a blue and red counties. This is okay as if there is a real change change in county level polarization swing areas will have a minimal effect. "
   ]
  },
  {
   "cell_type": "code",
   "execution_count": 16,
   "metadata": {},
   "outputs": [
    {
     "name": "stdout",
     "output_type": "stream",
     "text": [
      "Red Counties:\n",
      "P-value = 0.04719767487052674\n",
      "Correlation Coefficient = 0.8829853721924514\n",
      "Blue Counties:\n",
      "P-value = 0.004121871778152564\n",
      "Correlation = 0.9771877457483805\n"
     ]
    },
    {
     "data": {
      "image/png": "[encoded data removed]",
      "text/plain": [
       "<Figure size 432x288 with 1 Axes>"
      ]
     },
     "metadata": {},
     "output_type": "display_data"
    }
   ],
   "source": [
    "# Gets party and year values to iterate over and creates an empty array to store results in\n",
    "years = np.unique(county_votes['year'])\n",
    "parties = list(np.unique(county_votes.loc[county_votes['party'] != 'other', 'party']))\n",
    "means = np.zeros((len(parties), len(years)))\n",
    "\n",
    "# Iterates over election years and parties and calculates the mean proportion of votes for each party.\n",
    "for i in range(0, len(years)):\n",
    "    for j in range(0, len(parties)):\n",
    "        sub = county_votes[(county_votes['year'] == years[i]) & (county_votes['party'] == parties[j])]\n",
    "        means[j, i] = (sub.loc[(sub['proportion_of_redblue'] > 0.5), 'proportion_of_redblue']).mean()\n",
    "        \n",
    "fig = plt.figure()\n",
    "\n",
    "# Fit linear regression to red counties\n",
    "mean_r = means[parties.index('republican')]\n",
    "slope, intercept, r_value, p_value, std_err = linregress(years, mean_r)\n",
    "print('Red Counties:')\n",
    "print('P-value =', p_value)\n",
    "print('Correlation Coefficient =', np.corrcoef(years, mean_r)[0][1])\n",
    "line_r = slope * years + intercept\n",
    "\n",
    "# Fit linear regression to blue counties\n",
    "mean_d = means[parties.index('democrat')]\n",
    "slope_d, intercept_d, r_value_d, p_value_d, std_err_d = linregress(years, mean_d)\n",
    "print('Blue Counties:')\n",
    "print('P-value =', p_value_d)\n",
    "print('Correlation =', np.corrcoef(years, mean_d)[0][1])\n",
    "line_d = slope_d * years + intercept_d\n",
    "\n",
    "# Plot\n",
    "plt.plot(years, mean_r,'o', c = 'red')\n",
    "plt.plot(years, mean_d,'o', years, line_d, c = 'blue')\n",
    "plt.plot(years, line_r, c = 'red')\n",
    "plt.ylabel('Average Proportion of Votes to Party')\n",
    "plt.xlabel('Year')\n",
    "plt.legend(['Republican Counties', 'Democratic Counties'])\n",
    "\n",
    "# Export image\n",
    "fig.savefig('images/polarization_method_2.png')"
   ]
  },
  {
   "cell_type": "markdown",
   "metadata": {},
   "source": [
    "In the above plot we see both the average redness and blueness of red and blue counties, respectively, are increasing. Both yield a significant p-value from the linear regression (p < 0.05) and a strong positive correlation.  This indicates that blue and red counties are both winning by a larger average margin with each preceding election (i.e. counties are polarizing). We see there is more variability in the red fit, however red counties tend to have lower populations so their proportion of votes is much easier to change than high population blue counties. \n",
    "\n",
    "##### Research Question 2:\n",
    "Now, we will reference back to our intitial county dataset and use it to calculate party vote portions of the total vote as now we also want to include non-county related voting like mailins."
   ]
  },
  {
   "cell_type": "code",
   "execution_count": 17,
   "metadata": {
    "scrolled": true
   },
   "outputs": [
    {
     "data": {
      "image/png": "[encoded data removed]",
      "text/plain": [
       "<Figure size 432x288 with 1 Axes>"
      ]
     },
     "metadata": {},
     "output_type": "display_data"
    }
   ],
   "source": [
    "# Sum candidate votes over party and year to get votes per party and year\n",
    "total_voters_per_party = county_vote_dataset[['year', 'party', 'candidate_votes']].groupby(['year', 'party']).sum()\n",
    "total_voters_per_party.columns = ['votes_per_party']\n",
    "\n",
    "# Sum votes per party and year over year to get votes per year\n",
    "total_voters = total_voters_per_party.groupby(['year']).sum()\n",
    "total_voters.columns = ['total_votes']\n",
    "\n",
    "# Join above 2 dataframes on year\n",
    "total_voters = total_voters_per_party.join(total_voters, how = 'left')\n",
    "\n",
    "# Calculate party vote proportion of total\n",
    "total_voters['proportion'] = total_voters['votes_per_party'] / total_voters['total_votes']\n",
    "\n",
    "# Pivot joined dataframe to easily plot\n",
    "total_voters = total_voters.reset_index()\n",
    "total_voters = total_voters[['year', 'party', 'proportion']].pivot(index = 'year',\n",
    "                                                                   columns = 'party', values = 'proportion')\n",
    "# Plot\n",
    "plot_fig = total_voters.plot()\n",
    "fig = plot_fig.get_figure()\n",
    "plt.ylabel('Proportion of Total Vote')\n",
    "plt.xlabel('Year')\n",
    "plt.legend(['Democrat', 'Republican', 'Third Party'])\n",
    "\n",
    "# Export image\n",
    "fig.savefig('images/third_party_voting.png')"
   ]
  },
  {
   "cell_type": "markdown",
   "metadata": {},
   "source": [
    "From the above plot we can't conclusively say how voting for third parties is changing. More data would be necessary to view a trend. Rather the above chart shows two peaks in third party voting, which is more a measure of dissatisfaction in the two main party candidates.\n",
    "\n",
    "Bonus: We see democrats won the popular vote in 4 out of 5 elections, but won the electoral college election in 2 of the 5 elections which displays the inquity of voting power in America.\n",
    "\n",
    "##### Research Question 3:\n",
    "This [data](https://www.archives.gov/federal-register/electoral-college/votes/2000_2005.html#2016) was retrieved from the National Archives and Records Administration and is licensed under [Creative Commons CC0 1.0 Universal](https://creativecommons.org/publicdomain/zero/1.0/) license. The licensing is specified in their privacy sections, [here](https://www.archives.gov/global-pages/privacy.html). There was no downloadedable version of the html, so I copied the tables to excel and reduced the candidate to their party affliations. I compiled the final dataset and posted it to my repository for easy reproducibility.\n",
    "\n",
    "Here we:\n",
    " * Import the state electoral vote dataset.\n",
    " * Sum electoral votes over each election to validate they total to 538, for both votes available and cast. "
   ]
  },
  {
   "cell_type": "code",
   "execution_count": 18,
   "metadata": {},
   "outputs": [
    {
     "name": "stderr",
     "output_type": "stream",
     "text": [
      "C:\\Users\\mstark\\AppData\\Local\\Continuum\\anaconda3\\lib\\site-packages\\ipykernel_launcher.py:10: UserWarning: Boolean Series key will be reindexed to match DataFrame index.\n",
      "  # Remove the CWD from sys.path while we load stuff.\n"
     ]
    },
    {
     "data": {
      "text/html": [
       "<div>\n",
       "<style scoped>\n",
       "    .dataframe tbody tr th:only-of-type {\n",
       "        vertical-align: middle;\n",
       "    }\n",
       "\n",
       "    .dataframe tbody tr th {\n",
       "        vertical-align: top;\n",
       "    }\n",
       "\n",
       "    .dataframe thead th {\n",
       "        text-align: right;\n",
       "    }\n",
       "</style>\n",
       "<table border=\"1\" class=\"dataframe\">\n",
       "  <thead>\n",
       "    <tr style=\"text-align: right;\">\n",
       "      <th></th>\n",
       "      <th>State_Electoral_Votes</th>\n",
       "      <th>Cast</th>\n",
       "    </tr>\n",
       "    <tr>\n",
       "      <th>year</th>\n",
       "      <th></th>\n",
       "      <th></th>\n",
       "    </tr>\n",
       "  </thead>\n",
       "  <tbody>\n",
       "    <tr>\n",
       "      <th>2000</th>\n",
       "      <td>538</td>\n",
       "      <td>537.0</td>\n",
       "    </tr>\n",
       "    <tr>\n",
       "      <th>2004</th>\n",
       "      <td>538</td>\n",
       "      <td>538.0</td>\n",
       "    </tr>\n",
       "    <tr>\n",
       "      <th>2008</th>\n",
       "      <td>538</td>\n",
       "      <td>538.0</td>\n",
       "    </tr>\n",
       "    <tr>\n",
       "      <th>2012</th>\n",
       "      <td>538</td>\n",
       "      <td>538.0</td>\n",
       "    </tr>\n",
       "    <tr>\n",
       "      <th>2016</th>\n",
       "      <td>538</td>\n",
       "      <td>538.0</td>\n",
       "    </tr>\n",
       "  </tbody>\n",
       "</table>\n",
       "</div>"
      ],
      "text/plain": [
       "      State_Electoral_Votes   Cast\n",
       "year                              \n",
       "2000                    538  537.0\n",
       "2004                    538  538.0\n",
       "2008                    538  538.0\n",
       "2012                    538  538.0\n",
       "2016                    538  538.0"
      ]
     },
     "execution_count": 18,
     "metadata": {},
     "output_type": "execute_result"
    }
   ],
   "source": [
    "# Import state elector data\n",
    "electoral_dataset = pd.read_csv('data/electoralpres_2000-2016.csv')\n",
    "electoral_dataset.fillna(0, inplace = True)\n",
    "electoral_dataset['Cast'] = (electoral_dataset[list(electoral_dataset.columns)[-5:]]).sum(axis=1)\n",
    "electoral_dataset = electoral_dataset.rename(columns = {'Election_Year':'year', 'State': 'state'})\n",
    "electoral_dataset = electoral_dataset.set_index(['year', 'state'])\n",
    "\n",
    "# Validate electors cast per election\n",
    "electoral_validate = (electoral_dataset.reset_index())[['State_Electoral_Votes', 'Cast', 'year']].groupby(['year']).sum()\n",
    "electoral_validate.head()[(county_vote_dataset['party'] != 'other')]"
   ]
  },
  {
   "cell_type": "markdown",
   "metadata": {},
   "source": [
    "Note: 538 electors are cast each election except in 2000 where only 2 of 3 Washington D.C.'s were cast. One elector refused to vote in protest to Washington D.C.'s underrepresentation in Congress. \n",
    "\n",
    "Next we:\n",
    "* Using the initial county dataset to calculate the total votes per state in each election. Again we ignore third party votes, as they never win the majority and the electoral college predominantly operates on a winner take all system.\n",
    "* Then we calculate the total red votes per state and a state's proportion of red voters. This is to again calculate an average redness, but this time at a state level.\n",
    "* Calculate the power of each state in every election. Power = the number of electors available / the total number of votes cast = the number of electors per voter\n",
    "* Calculate the people per elector in every elestion. The inverse of our power metric.\n",
    "* Calculate the average power for each state across the 5 elections.\n",
    "* Calculate the average redness, or average proportion of red voters, in each state across the 5 elections.\n",
    "* Divide states into red and blue states, and calculate the average power of each group. Red states are states where their average redness is > 0.5, and blue have average redness < 0.5. \n",
    "* Create scatter plot of state power verse redness, and plot group averages."
   ]
  },
  {
   "cell_type": "code",
   "execution_count": 19,
   "metadata": {},
   "outputs": [
    {
     "name": "stdout",
     "output_type": "stream",
     "text": [
      "Average Red Power =  5.847685037196162e-06 +/- 2.236702642517416e-06\n",
      "Average Blue Power =  5.679542785821677e-06 +/- 2.4838484495445902e-06\n"
     ]
    },
    {
     "data": {
      "image/png": "[encoded data removed]",
      "text/plain": [
       "<Figure size 432x288 with 1 Axes>"
      ]
     },
     "metadata": {},
     "output_type": "display_data"
    }
   ],
   "source": [
    "# Calculates total votes per state and election, removing third party votes as they are a low proportion of the total < 10%\n",
    "state_votes = county_vote_dataset[['year', 'state', 'candidate_votes']][(county_vote_dataset['party']\n",
    "                                                                         != 'other')].groupby(['year','state']).sum()\n",
    "state_votes.columns = ['state_votes']\n",
    "\n",
    "# Calculates total red votes per state and election\n",
    "red_votes = county_vote_dataset[(county_vote_dataset['party'] == \n",
    "                                 'republican')][['year', 'state', 'candidate_votes']].groupby(['year','state']).sum()\n",
    "red_votes.columns = ['red_votes']\n",
    "\n",
    "# Calculates portion of red votes in each state and election\n",
    "state_votes = state_votes.join(red_votes).reset_index()\n",
    "state_votes['rb_proportion'] = state_votes['red_votes']/state_votes['state_votes']\n",
    "\n",
    "# Joins electoral dataset with state vote proportions\n",
    "electoral_popular = electoral_dataset.join(state_votes.set_index(['year', 'state']))\n",
    "\n",
    "# Calculates the power of each state and the number of people per elector in each state\n",
    "electoral_popular['power'] = electoral_popular['State_Electoral_Votes'] / electoral_popular['state_votes']\n",
    "electoral_popular['ppl_per_elector'] = electoral_popular['state_votes'] / electoral_popular['State_Electoral_Votes']\n",
    "\n",
    "# Calculates the average power of a state across the last 5 elections\n",
    "power = (electoral_popular.reset_index())[[\n",
    "    'state', 'power', 'State_Electoral_Votes']].groupby(['state']).agg([np.mean, np.std]).reset_index()\n",
    "data = {'state': power['state'], 'avg_power': power['power']['mean']}\n",
    "power = pd.DataFrame(data = data).set_index('state')\n",
    "power.sort_values(['avg_power'])\n",
    "\n",
    "# Calculates the average portion of red votes in each state over all 5 elections\n",
    "state_votes_summary = state_votes[['state', 'rb_proportion']].groupby(['state']).agg([np.mean, np.std]).reset_index()\n",
    "\n",
    "# Reformats the above dataframe to get rid of sub-dataframe created by the aggregration\n",
    "data = {'state': state_votes_summary['state'], 'avg_redness': state_votes_summary['rb_proportion']['mean']}\n",
    "state_df = pd.DataFrame(data = data)\n",
    "state_df = state_df.set_index(['state'])\n",
    "\n",
    "# Joins the power and redness dataframes \n",
    "power_and_redness = power.join(state_df, how = 'left').reset_index()\n",
    "\n",
    "# Calculate avg_power across all red states\n",
    "red_avg = power_and_redness[(power_and_redness['avg_redness'] > 0.5)]\n",
    "ra = red_avg['avg_power'].mean()\n",
    "rs = red_avg['avg_power'].std()\n",
    "print('Average Red Power = ', ra, '+/-', rs)\n",
    "\n",
    "# Calculate avg_power across all blue states\n",
    "blue_avg = power_and_redness[(power_and_redness['avg_redness'] <= 0.5)]\n",
    "ba = blue_avg['avg_power'].mean()\n",
    "bs = blue_avg['avg_power'].std()\n",
    "print('Average Blue Power = ', ba, '+/-', bs)\n",
    "\n",
    "# Plot\n",
    "fig = plt.figure()\n",
    "plt.scatter('avg_redness', 'avg_power', data = red_avg, color = 'tomato')\n",
    "plt.scatter('avg_redness', 'avg_power', data = blue_avg, color = 'cornflowerblue')\n",
    "plt.scatter(0.5, ra, c = 'red', marker= \"s\")\n",
    "plt.scatter(0.5, ba, c = 'blue', marker = \"s\")\n",
    "plt.axvline(0.5, c = \"black\")\n",
    "plt.ylabel('Electors per Voter')\n",
    "plt.xlabel(\"Average Proportion of Republican Voters in each State\")\n",
    "plt.ylim([0,0.000014])\n",
    "\n",
    "# Export image\n",
    "fig.savefig('images/power_by_state_scatter.png', bbox_inches = \"tight\")"
   ]
  },
  {
   "cell_type": "markdown",
   "metadata": {},
   "source": [
    "Above, we see a symmetry around 0.5. This is a significant marker as the electoral college predomantially opperates as winner takes all system. This means for states above the 0.5 average redness, the state electors would have gone to the republican candidate and states below would have gone to the democratic candidate. The symmetry doesn't really indicate a bias in the distribution of power. You can maybe say the baseline power of red states is slightly higher than blue states but the means of both groups are very similar, with red states having a slightly larger average power. The groups have overlapping error margins so we can't conclude that this is a statistically significant difference though.\n",
    "\n",
    "Notes: In each party we see and outlier. The blue outlier is Washington D.C. and the red outlier is Wyoming which each have 3-4 times the average power of most states. \n",
    "\n",
    "Again this measure of power is a measure of the average number of electors per person in each state. However a state like California, which has 55 electors, is still more powerful than Washington D.C. which only have 3 electors. \n",
    "\n",
    "Below we look at swing states, the top ten states nearest to the 0.5 redness boundary."
   ]
  },
  {
   "cell_type": "code",
   "execution_count": 20,
   "metadata": {},
   "outputs": [
    {
     "data": {
      "text/html": [
       "<div>\n",
       "<style scoped>\n",
       "    .dataframe tbody tr th:only-of-type {\n",
       "        vertical-align: middle;\n",
       "    }\n",
       "\n",
       "    .dataframe tbody tr th {\n",
       "        vertical-align: top;\n",
       "    }\n",
       "\n",
       "    .dataframe thead th {\n",
       "        text-align: right;\n",
       "    }\n",
       "</style>\n",
       "<table border=\"1\" class=\"dataframe\">\n",
       "  <thead>\n",
       "    <tr style=\"text-align: right;\">\n",
       "      <th></th>\n",
       "      <th>state</th>\n",
       "      <th>avg_power</th>\n",
       "      <th>avg_redness</th>\n",
       "      <th>swing</th>\n",
       "    </tr>\n",
       "  </thead>\n",
       "  <tbody>\n",
       "    <tr>\n",
       "      <th>46</th>\n",
       "      <td>Virginia</td>\n",
       "      <td>0.000004</td>\n",
       "      <td>0.500623</td>\n",
       "      <td>0.000623</td>\n",
       "    </tr>\n",
       "    <tr>\n",
       "      <th>9</th>\n",
       "      <td>Florida</td>\n",
       "      <td>0.000004</td>\n",
       "      <td>0.502562</td>\n",
       "      <td>0.002562</td>\n",
       "    </tr>\n",
       "    <tr>\n",
       "      <th>15</th>\n",
       "      <td>Iowa</td>\n",
       "      <td>0.000005</td>\n",
       "      <td>0.494859</td>\n",
       "      <td>0.005141</td>\n",
       "    </tr>\n",
       "    <tr>\n",
       "      <th>5</th>\n",
       "      <td>Colorado</td>\n",
       "      <td>0.000004</td>\n",
       "      <td>0.493736</td>\n",
       "      <td>0.006264</td>\n",
       "    </tr>\n",
       "    <tr>\n",
       "      <th>35</th>\n",
       "      <td>Ohio</td>\n",
       "      <td>0.000004</td>\n",
       "      <td>0.506649</td>\n",
       "      <td>0.006649</td>\n",
       "    </tr>\n",
       "    <tr>\n",
       "      <th>28</th>\n",
       "      <td>Nevada</td>\n",
       "      <td>0.000006</td>\n",
       "      <td>0.484173</td>\n",
       "      <td>0.015827</td>\n",
       "    </tr>\n",
       "    <tr>\n",
       "      <th>29</th>\n",
       "      <td>New Hampshire</td>\n",
       "      <td>0.000006</td>\n",
       "      <td>0.484156</td>\n",
       "      <td>0.015844</td>\n",
       "    </tr>\n",
       "    <tr>\n",
       "      <th>49</th>\n",
       "      <td>Wisconsin</td>\n",
       "      <td>0.000004</td>\n",
       "      <td>0.479160</td>\n",
       "      <td>0.020840</td>\n",
       "    </tr>\n",
       "    <tr>\n",
       "      <th>38</th>\n",
       "      <td>Pennsylvania</td>\n",
       "      <td>0.000004</td>\n",
       "      <td>0.478996</td>\n",
       "      <td>0.021004</td>\n",
       "    </tr>\n",
       "    <tr>\n",
       "      <th>23</th>\n",
       "      <td>Minnesota</td>\n",
       "      <td>0.000004</td>\n",
       "      <td>0.473900</td>\n",
       "      <td>0.026100</td>\n",
       "    </tr>\n",
       "  </tbody>\n",
       "</table>\n",
       "</div>"
      ],
      "text/plain": [
       "            state  avg_power  avg_redness     swing\n",
       "46       Virginia   0.000004     0.500623  0.000623\n",
       "9         Florida   0.000004     0.502562  0.002562\n",
       "15           Iowa   0.000005     0.494859  0.005141\n",
       "5        Colorado   0.000004     0.493736  0.006264\n",
       "35           Ohio   0.000004     0.506649  0.006649\n",
       "28         Nevada   0.000006     0.484173  0.015827\n",
       "29  New Hampshire   0.000006     0.484156  0.015844\n",
       "49      Wisconsin   0.000004     0.479160  0.020840\n",
       "38   Pennsylvania   0.000004     0.478996  0.021004\n",
       "23      Minnesota   0.000004     0.473900  0.026100"
      ]
     },
     "execution_count": 20,
     "metadata": {},
     "output_type": "execute_result"
    }
   ],
   "source": [
    "# Calculate the 10 closes states to 0.5 average \"Redness\"\n",
    "power_and_redness['swing'] = abs(power_and_redness['avg_redness'] - 0.5)\n",
    "power_and_redness = power_and_redness.sort_values(['swing'])\n",
    "power_and_redness.head(10)"
   ]
  },
  {
   "cell_type": "markdown",
   "metadata": {},
   "source": [
    "Finally, I wanted to see how the power of each state compares when using the states population rather than the voter turnout.\n",
    "\n",
    "Below we import the state 2016 estimated population dataset from the Census Bureau which operates on an open data policy, with more details available [here](https://www.census.gov/about/policies/open-gov/open-data.html)."
   ]
  },
  {
   "cell_type": "code",
   "execution_count": 21,
   "metadata": {},
   "outputs": [],
   "source": [
    "# Import 2016 state population estimate by state data\n",
    "state_population_dataset = pd.read_csv('data/nst-est2017-alldata.csv')\n",
    "state_population_dataset = state_population_dataset[['NAME', 'POPESTIMATE2016']][(state_population_dataset['STATE'] != 0)]\n",
    "state_population_dataset.columns = ['state', '2016_population']"
   ]
  },
  {
   "cell_type": "markdown",
   "metadata": {},
   "source": [
    "Next:\n",
    "* Find the number of electors in each state in 2016.\n",
    "* Calculate state power in 2016 using states population."
   ]
  },
  {
   "cell_type": "code",
   "execution_count": 22,
   "metadata": {},
   "outputs": [
    {
     "data": {
      "text/html": [
       "<div>\n",
       "<style scoped>\n",
       "    .dataframe tbody tr th:only-of-type {\n",
       "        vertical-align: middle;\n",
       "    }\n",
       "\n",
       "    .dataframe tbody tr th {\n",
       "        vertical-align: top;\n",
       "    }\n",
       "\n",
       "    .dataframe thead th {\n",
       "        text-align: right;\n",
       "    }\n",
       "</style>\n",
       "<table border=\"1\" class=\"dataframe\">\n",
       "  <thead>\n",
       "    <tr style=\"text-align: right;\">\n",
       "      <th></th>\n",
       "      <th>State_Electoral_Votes</th>\n",
       "      <th>2016_population</th>\n",
       "      <th>power</th>\n",
       "      <th>avg_redness</th>\n",
       "      <th>avg_power</th>\n",
       "    </tr>\n",
       "    <tr>\n",
       "      <th>state</th>\n",
       "      <th></th>\n",
       "      <th></th>\n",
       "      <th></th>\n",
       "      <th></th>\n",
       "      <th></th>\n",
       "    </tr>\n",
       "  </thead>\n",
       "  <tbody>\n",
       "    <tr>\n",
       "      <th>Alabama</th>\n",
       "      <td>9</td>\n",
       "      <td>4860545.0</td>\n",
       "      <td>0.000002</td>\n",
       "      <td>0.613929</td>\n",
       "      <td>0.000005</td>\n",
       "    </tr>\n",
       "    <tr>\n",
       "      <th>Alaska</th>\n",
       "      <td>3</td>\n",
       "      <td>741522.0</td>\n",
       "      <td>0.000004</td>\n",
       "      <td>0.613082</td>\n",
       "      <td>0.000010</td>\n",
       "    </tr>\n",
       "    <tr>\n",
       "      <th>Arizona</th>\n",
       "      <td>11</td>\n",
       "      <td>6908642.0</td>\n",
       "      <td>0.000002</td>\n",
       "      <td>0.538750</td>\n",
       "      <td>0.000005</td>\n",
       "    </tr>\n",
       "    <tr>\n",
       "      <th>Arkansas</th>\n",
       "      <td>6</td>\n",
       "      <td>2988231.0</td>\n",
       "      <td>0.000002</td>\n",
       "      <td>0.588824</td>\n",
       "      <td>0.000006</td>\n",
       "    </tr>\n",
       "    <tr>\n",
       "      <th>California</th>\n",
       "      <td>55</td>\n",
       "      <td>39296476.0</td>\n",
       "      <td>0.000001</td>\n",
       "      <td>0.396937</td>\n",
       "      <td>0.000004</td>\n",
       "    </tr>\n",
       "  </tbody>\n",
       "</table>\n",
       "</div>"
      ],
      "text/plain": [
       "            State_Electoral_Votes  2016_population     power  avg_redness  \\\n",
       "state                                                                       \n",
       "Alabama                         9        4860545.0  0.000002     0.613929   \n",
       "Alaska                          3         741522.0  0.000004     0.613082   \n",
       "Arizona                        11        6908642.0  0.000002     0.538750   \n",
       "Arkansas                        6        2988231.0  0.000002     0.588824   \n",
       "California                     55       39296476.0  0.000001     0.396937   \n",
       "\n",
       "            avg_power  \n",
       "state                  \n",
       "Alabama      0.000005  \n",
       "Alaska       0.000010  \n",
       "Arizona      0.000005  \n",
       "Arkansas     0.000006  \n",
       "California   0.000004  "
      ]
     },
     "execution_count": 22,
     "metadata": {},
     "output_type": "execute_result"
    }
   ],
   "source": [
    "# Finds each state's electoral college distribution by state\n",
    "state_population_power = electoral_dataset.reset_index() \n",
    "state_population_power = state_population_power[(state_population_power['year'] == \n",
    "                                                 2016)][['state', 'State_Electoral_Votes']].set_index('state')\n",
    "\n",
    "# Joins to state population dataset and calculates power\n",
    "state_population_power = state_population_power.join(state_population_dataset.set_index('state'))\n",
    "state_population_power['power'] = state_population_power['State_Electoral_Votes'] / state_population_power['2016_population']\n",
    "state_population_power.head()\n",
    "\n",
    "# Joins to state redness and power dataframe\n",
    "state_power = state_population_power.join(state_df, how = \"inner\").join(power)\n",
    "state_power.head()"
   ]
  },
  {
   "cell_type": "markdown",
   "metadata": {},
   "source": [
    "Next, we generate a similar scatter plot of state average redness versus state power per resident."
   ]
  },
  {
   "cell_type": "code",
   "execution_count": 23,
   "metadata": {},
   "outputs": [
    {
     "name": "stdout",
     "output_type": "stream",
     "text": [
      "Average Red Power =  2.2111090377565473e-06 +/- 9.430507012899785e-07\n",
      "Average Blue Power =  2.2580727746127705e-06 +/- 9.647490307737943e-07\n"
     ]
    },
    {
     "data": {
      "image/png": "[encoded data removed]",
      "text/plain": [
       "<Figure size 432x288 with 1 Axes>"
      ]
     },
     "metadata": {},
     "output_type": "display_data"
    }
   ],
   "source": [
    "# Calculate avg_power across all red states\n",
    "red_st_avg = state_power[(state_power['avg_redness'] > 0.5)]\n",
    "ra_st = red_st_avg['power'].mean()\n",
    "rs_st = red_st_avg['power'].std()\n",
    "print('Average Red Power = ', ra_st, '+/-', rs_st)\n",
    "\n",
    "# Calculate avg_power across all blue states\n",
    "blue_st_avg = state_power[(state_power['avg_redness'] <= 0.5)]\n",
    "ba_st = blue_st_avg['power'].mean()\n",
    "bs_st = blue_st_avg['power'].std()\n",
    "print('Average Blue Power = ', ba_st, '+/-', bs_st)\n",
    "\n",
    "# Plot\n",
    "fig = plt.figure()\n",
    "plt.scatter('avg_redness', 'power', data = red_st_avg, color = 'tomato')\n",
    "plt.scatter('avg_redness', 'power', data = blue_st_avg, color = 'cornflowerblue')\n",
    "plt.scatter(0.5, ra_st, c = 'red', marker= \"s\")\n",
    "plt.scatter(0.5, ba_st, c = 'blue', marker = \"s\")\n",
    "plt.axvline(0.5, c = \"black\")\n",
    "plt.ylim([0,0.0000055])\n",
    "plt.ylabel('Electors per State Resident')\n",
    "plt.xlabel(\"Average Proportion of Republican Voters in each State\")\n",
    "\n",
    "# Export image\n",
    "fig.savefig('images/power_by_state_resident_scatter.png', bbox_inches = \"tight\")"
   ]
  },
  {
   "cell_type": "markdown",
   "metadata": {},
   "source": [
    "Above, the results are very similar to before. We see the same general pattern and distribution. Which indicates power of states are uniformly effected by turnout.\n",
    "\n",
    "Lastly we plot the power per voter vs. power per resident in each state."
   ]
  },
  {
   "cell_type": "code",
   "execution_count": 24,
   "metadata": {},
   "outputs": [
    {
     "name": "stdout",
     "output_type": "stream",
     "text": [
      "Blue Counties:\n",
      "P-value = 4.631572116881686e-26\n",
      "Correlation = 0.9482406449767264\n"
     ]
    },
    {
     "data": {
      "image/png": "[encoded data removed]",
      "text/plain": [
       "<Figure size 432x288 with 1 Axes>"
      ]
     },
     "metadata": {},
     "output_type": "display_data"
    }
   ],
   "source": [
    "fig = plt.figure()\n",
    "x = state_power['avg_power']\n",
    "y = state_power['power']\n",
    "plt.scatter(x, y)\n",
    "slope, intercept, r_value, p_value, std_err = linregress(x, y)\n",
    "print('Blue Counties:')\n",
    "print('P-value =', p_value)\n",
    "print('Correlation =', np.corrcoef(x, y)[0][1])\n",
    "line = slope * x + intercept\n",
    "plt.plot(x, line, c = 'red')\n",
    "plt.ylim([0, 0.000006])\n",
    "plt.xlim([0, 0.000015])\n",
    "plt.xlabel('Electors per Voter')\n",
    "plt.ylabel('Electors per State Resident')\n",
    "\n",
    "fig.savefig('images/state_vs_turnout_power.png',  bbox_inches = \"tight\")"
   ]
  },
  {
   "cell_type": "markdown",
   "metadata": {},
   "source": [
    "The strong, positive, linear correlation between power per resident and power per voter again indicates that all states have about the same turnout."
   ]
  },
  {
   "cell_type": "markdown",
   "metadata": {},
   "source": [
    "### Discussion and Implications\n",
    "A few limitations of the study were:\n",
    "* The type of bias we were able to look for in the U.S. Presidential Election cycle.\n",
    "* I only had access to actual voters cast, so it's hard to see how voter suppression plays into polarization and power.\n",
    "\n",
    "Future work:\n",
    "* We looked at county level polarization. With more time we could look at how that impacts state polarization, or if states are still fairly purple.\n",
    "* Use more election data to see how the change in the last 5 election years compare to a longer time period. Are changes excellerating or growing linearly.\n",
    "\n",
    "Implications:\n",
    "* [Insert implications here]."
   ]
  },
  {
   "cell_type": "markdown",
   "metadata": {},
   "source": [
    "### Conclusion\n",
    "In summary I will restate my initial research questions and the results of each.\n",
    "\n",
    "* _Question 1: Can we see a voter polarization? This is, are red areas becoming redder and vice versa._ \n",
    "<br>Yes, we were able to see both red and blue counties in american are polarizing and winning Presidential elections with high margins.<br/>\n",
    "  \n",
    "* _Question 2: Is the proportion of people voting for third parties increasing?_\n",
    "<br>Simply, no. There is no conclusive pattern in the proportion of third party votes year over year. Rather the spikes indicate votes dissatisfaction in the main two-party candidates.<br/>\n",
    "\n",
    "* _Question 3: What is there bias in the voting power distribution?_ \n",
    "<br>The symmetry of the distribution between red and blue states doesn't indicate a bias in the distribution of voter power. Though is just show the inequity of voting power amongst states.<br/>\n",
    "\n",
    "More data and analysis is necessary to better answer questions 1 and 2. It's important to note that even though our conclusion to question 3 was that there wasn't a bias in the distribution of power amoungst red and blue states doesn't mean there is no bias in the electoral college as this was just one way of exploring potential bias. \n",
    "\n",
    "This analysis is a demonstration of human centered data science. Both the nature and implication of the analysis related to human interests. The plot and documentation choices were choosen to increase reproducibility, transparency, and interpretability for user."
   ]
  },
  {
   "cell_type": "markdown",
   "metadata": {},
   "source": [
    "### References\n",
    "Any publications (blogs, articles, research papers) you refer to in the text.\n",
    "1. https://www.minnpost.com/community-voices/2016/08/how-just-few-voters-few-us-counties-will-decide-presidential-election/\n",
    "2. https://www.cnn.com/2016/11/11/politics/popular-vote-turnout-2016/index.html\n",
    "3. https://www.washingtonpost.com/news/monkey-cage/wp/2013/11/12/most-americans-live-in-purple-america-not-red-or-blue-america/?utm_term=.5da51627fa8a\n",
    "4. https://fivethirtyeight.com/features/purple-america-has-all-but-disappeared/\n",
    "5. https://www.vox.com/polyarchy/2018/9/17/17870478/two-party-system-electoral-reform\n",
    "6. https://www.washingtonpost.com/news/monkey-cage/wp/2016/11/15/5-things-you-need-to-know-about-how-third-party-candidates-did-in-2016/?utm_term=.c3db42d10280\n",
    "7. https://observer.com/2016/11/the-built-in-bias-of-the-electoral-college/"
   ]
  }
 ],
 "metadata": {
  "kernelspec": {
   "display_name": "Python 3",
   "language": "python",
   "name": "python3"
  },
  "language_info": {
   "codemirror_mode": {
    "name": "ipython",
    "version": 3
   },
   "file_extension": ".py",
   "mimetype": "text/x-python",
   "name": "python",
   "nbconvert_exporter": "python",
   "pygments_lexer": "ipython3",
   "version": "3.6.4"
  }
 },
 "nbformat": 4,
 "nbformat_minor": 2
}
